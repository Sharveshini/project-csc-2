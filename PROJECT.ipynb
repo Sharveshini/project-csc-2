{
  "nbformat": 4,
  "nbformat_minor": 0,
  "metadata": {
    "colab": {
      "provenance": []
    },
    "kernelspec": {
      "name": "python3",
      "display_name": "Python 3"
    },
    "language_info": {
      "name": "python"
    }
  },
  "cells": [
    {
      "cell_type": "code",
      "execution_count": 1,
      "metadata": {
        "colab": {
          "base_uri": "https://localhost:8080/"
        },
        "id": "wNs3bIbjGss7",
        "outputId": "94bf6c39-6374-476a-bb11-de384c111da1"
      },
      "outputs": [
        {
          "output_type": "stream",
          "name": "stdout",
          "text": [
            "Simple Calculator\n",
            "Operations:\n",
            "1. Addition (+)\n",
            "2. Subtraction (-)\n",
            "3. Multiplication (*)\n",
            "4. Division (/)\n",
            "Enter operation number (1-4): 3\n",
            "Enter first number: 6\n",
            "Enter second number: 7\n",
            "Result: 42.0\n"
          ]
        }
      ],
      "source": [
        "def add(x, y):\n",
        "    return x + y\n",
        "\n",
        "def subtract(x, y):\n",
        "    return x - y\n",
        "\n",
        "def multiply(x, y):\n",
        "    return x * y\n",
        "\n",
        "def divide(x, y):\n",
        "    if y != 0:\n",
        "        return x / y\n",
        "    else:\n",
        "        return \"Error: Cannot divide by zero.\"\n",
        "\n",
        "# Main calculator function\n",
        "def calculator():\n",
        "    print(\"Simple Calculator\")\n",
        "    print(\"Operations:\")\n",
        "    print(\"1. Addition (+)\")\n",
        "    print(\"2. Subtraction (-)\")\n",
        "    print(\"3. Multiplication (*)\")\n",
        "    print(\"4. Division (/)\")\n",
        "\n",
        "    try:\n",
        "        choice = int(input(\"Enter operation number (1-4): \"))\n",
        "        num1 = float(input(\"Enter first number: \"))\n",
        "        num2 = float(input(\"Enter second number: \"))\n",
        "\n",
        "        if choice == 1:\n",
        "            result = add(num1, num2)\n",
        "        elif choice == 2:\n",
        "            result = subtract(num1, num2)\n",
        "        elif choice == 3:\n",
        "            result = multiply(num1, num2)\n",
        "        elif choice == 4:\n",
        "            result = divide(num1, num2)\n",
        "        else:\n",
        "            print(\"Invalid operation number.\")\n",
        "            return\n",
        "\n",
        "        print(f\"Result: {result}\")\n",
        "\n",
        "    except ValueError:\n",
        "        print(\"Invalid input. Please enter valid numbers.\")\n",
        "    except Exception as e:\n",
        "        print(f\"An error occurred: {e}\")\n",
        "\n",
        "# Run the calculator\n",
        "calculator()"
      ]
    }
  ]
}